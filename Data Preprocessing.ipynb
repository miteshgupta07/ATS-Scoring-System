{
 "cells": [
  {
   "cell_type": "code",
   "execution_count": 6,
   "metadata": {},
   "outputs": [],
   "source": [
    "import json\n",
    "import string"
   ]
  },
  {
   "cell_type": "code",
   "execution_count": 2,
   "metadata": {},
   "outputs": [],
   "source": [
    "with open('data.json','rb') as f:\n",
    "    data=json.load(f)"
   ]
  },
  {
   "cell_type": "code",
   "execution_count": 7,
   "metadata": {},
   "outputs": [],
   "source": [
    "train_data=[]\n",
    "for i in data:\n",
    "    item={}\n",
    "    entities=[]\n",
    "    content=i['content']\n",
    "    for j in i['annotation']:\n",
    "        label=j['label']\n",
    "        label=label[0].replace(\" \",\"_\").upper()\n",
    "        text=j['text'][0].strip()\n",
    "        start=content.index(text)\n",
    "        end=start+len(text)\n",
    "        entities.append([start,end,label])\n",
    "    item['text']=content\n",
    "    item['entities']=entities\n",
    "    train_data.append(item)"
   ]
  },
  {
   "cell_type": "code",
   "execution_count": 8,
   "metadata": {},
   "outputs": [],
   "source": [
    "with open('./Data/train/train_data.json','w') as file:\n",
    "    json.dump(train_data,file)"
   ]
  }
 ],
 "metadata": {
  "kernelspec": {
   "display_name": "Python 3",
   "language": "python",
   "name": "python3"
  },
  "language_info": {
   "codemirror_mode": {
    "name": "ipython",
    "version": 3
   },
   "file_extension": ".py",
   "mimetype": "text/x-python",
   "name": "python",
   "nbconvert_exporter": "python",
   "pygments_lexer": "ipython3",
   "version": "3.11.7"
  }
 },
 "nbformat": 4,
 "nbformat_minor": 2
}
