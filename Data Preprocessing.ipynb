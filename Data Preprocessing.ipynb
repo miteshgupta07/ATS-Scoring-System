{
 "cells": [
  {
   "cell_type": "code",
   "execution_count": 34,
   "metadata": {},
   "outputs": [],
   "source": [
    "import json"
   ]
  },
  {
   "cell_type": "code",
   "execution_count": 35,
   "metadata": {},
   "outputs": [],
   "source": [
    "with open('data.json','rb') as f:\n",
    "    data=json.load(f)"
   ]
  },
  {
   "cell_type": "code",
   "execution_count": 38,
   "metadata": {},
   "outputs": [],
   "source": [
    "train_data=[]\n",
    "for i in data:\n",
    "    item={}\n",
    "    entities=[]\n",
    "    content=i['content']\n",
    "    seen=set()\n",
    "    indexes=[]\n",
    "    for j in i['annotation']:\n",
    "        label=j['label']\n",
    "        label=label[0].replace(\" \",\"_\").upper()\n",
    "        text=j['text'][0].strip()\n",
    "        if text not in seen:\n",
    "            start=content.index(text)\n",
    "            end=start+len(text)\n",
    "            flag=0\n",
    "            for index in indexes:\n",
    "                if (index[0]<=start<=index[1]) or (index[0]<=end<=index[1]) or (start<=index[0]<=end) or (start<=index[1]<=end):\n",
    "                    flag=1\n",
    "            if flag!=1:\n",
    "                entities.append([start,end,label])\n",
    "                \n",
    "            seen.add(text)\n",
    "            indexes.append([start,end])           \n",
    "\n",
    "    item['text']=content\n",
    "    item['entities']=entities\n",
    "    train_data.append(item)"
   ]
  },
  {
   "cell_type": "code",
   "execution_count": 39,
   "metadata": {},
   "outputs": [],
   "source": [
    "with open('./Data/train/train_data.json','w') as file:\n",
    "    json.dump(train_data,file)"
   ]
  }
 ],
 "metadata": {
  "kernelspec": {
   "display_name": "Python 3",
   "language": "python",
   "name": "python3"
  },
  "language_info": {
   "codemirror_mode": {
    "name": "ipython",
    "version": 3
   },
   "file_extension": ".py",
   "mimetype": "text/x-python",
   "name": "python",
   "nbconvert_exporter": "python",
   "pygments_lexer": "ipython3",
   "version": "3.11.7"
  }
 },
 "nbformat": 4,
 "nbformat_minor": 2
}
