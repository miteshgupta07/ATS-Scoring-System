{
 "cells": [
  {
   "cell_type": "code",
   "execution_count": null,
   "metadata": {},
   "outputs": [],
   "source": [
    "import json"
   ]
  },
  {
   "cell_type": "code",
   "execution_count": null,
   "metadata": {},
   "outputs": [],
   "source": [
    "with open('data.json','rb') as f:\n",
    "    data=json.load(f)"
   ]
  },
  {
   "cell_type": "code",
   "execution_count": null,
   "metadata": {},
   "outputs": [],
   "source": [
    "train_data=[]\n",
    "for i in data:\n",
    "    item={}\n",
    "    entities=[]\n",
    "    text=i['content'].replace('\\n\\n',' ').replace('\\n',' ')\n",
    "    for j in i['annotation']:\n",
    "        label=j['label']\n",
    "        label=label[0].replace(\" \",\"\")\n",
    "        for p in j['points']:\n",
    "            label_text=p['text']\n",
    "            if label in \n",
    "\n",
    "\n",
    "    #     entities.append([start,end,label])\n",
    "    # item['text']=text\n",
    "    # item['entities']=entities\n",
    "    # train_data.append(item)"
   ]
  },
  {
   "cell_type": "code",
   "execution_count": 13,
   "metadata": {},
   "outputs": [
    {
     "data": {
      "text/plain": [
       "'is good '"
      ]
     },
     "execution_count": 13,
     "metadata": {},
     "output_type": "execute_result"
    }
   ],
   "source": [
    "a=\"string is good as python\"\n",
    "b=\"is good \"\n",
    "\n",
    "if b in a:\n",
    "    start=a.index(b)\n",
    "    end=start+len(b)\n",
    "\n",
    "a[start:end]"
   ]
  },
  {
   "cell_type": "code",
   "execution_count": null,
   "metadata": {},
   "outputs": [],
   "source": [
    "# with open('train_data.json','w') as file:\n",
    "#     json.dump(train_data,file)"
   ]
  },
  {
   "cell_type": "code",
   "execution_count": null,
   "metadata": {},
   "outputs": [],
   "source": []
  }
 ],
 "metadata": {
  "kernelspec": {
   "display_name": "Python 3",
   "language": "python",
   "name": "python3"
  },
  "language_info": {
   "codemirror_mode": {
    "name": "ipython",
    "version": 3
   },
   "file_extension": ".py",
   "mimetype": "text/x-python",
   "name": "python",
   "nbconvert_exporter": "python",
   "pygments_lexer": "ipython3",
   "version": "3.11.7"
  }
 },
 "nbformat": 4,
 "nbformat_minor": 2
}
