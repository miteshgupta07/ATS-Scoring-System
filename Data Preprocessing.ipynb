{
 "cells": [
  {
   "cell_type": "code",
   "execution_count": 1,
   "metadata": {},
   "outputs": [],
   "source": [
    "import json"
   ]
  },
  {
   "cell_type": "code",
   "execution_count": 2,
   "metadata": {},
   "outputs": [],
   "source": [
    "with open('data.json','rb') as f:\n",
    "    data=json.load(f)"
   ]
  },
  {
   "cell_type": "code",
   "execution_count": 10,
   "metadata": {},
   "outputs": [],
   "source": [
    "train_data=[]\n",
    "for i in data:\n",
    "    item={}\n",
    "    entities=[]\n",
    "    text=i['content'].replace('\\n\\n',' ').replace('\\n',' ')\n",
    "    for j in i['annotation']:\n",
    "        label=j['label']\n",
    "        label=label[0].replace(\" \",\"\")\n",
    "        for p in j['points']:\n",
    "            start=p['start']\n",
    "            end=p['end']\n",
    "        entities.append([start,end,label])\n",
    "    item['text']=text\n",
    "    item['entities']=entities\n",
    "    train_data.append(item)"
   ]
  },
  {
   "cell_type": "code",
   "execution_count": 11,
   "metadata": {},
   "outputs": [],
   "source": [
    "with open('train_data.json','w') as file:\n",
    "    json.dump(train_data,file)"
   ]
  }
 ],
 "metadata": {
  "kernelspec": {
   "display_name": "Python 3",
   "language": "python",
   "name": "python3"
  },
  "language_info": {
   "codemirror_mode": {
    "name": "ipython",
    "version": 3
   },
   "file_extension": ".py",
   "mimetype": "text/x-python",
   "name": "python",
   "nbconvert_exporter": "python",
   "pygments_lexer": "ipython3",
   "version": "3.11.7"
  }
 },
 "nbformat": 4,
 "nbformat_minor": 2
}
