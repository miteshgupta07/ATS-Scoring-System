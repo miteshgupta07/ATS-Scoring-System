{
 "cells": [
  {
   "cell_type": "code",
   "execution_count": 1,
   "metadata": {},
   "outputs": [],
   "source": [
    "import spacy\n",
    "from spacy.training import Example\n",
    "from spacy.util import minibatch, compounding\n",
    "import random\n",
    "import json\n",
    "from tqdm import tqdm\n",
    "from spacy.util import filter_spans"
   ]
  },
  {
   "cell_type": "code",
   "execution_count": 2,
   "metadata": {},
   "outputs": [],
   "source": [
    "with open('Data/train/train_data.json','rb') as f:\n",
    "    train_data=json.load(f)"
   ]
  },
  {
   "cell_type": "code",
   "execution_count": 3,
   "metadata": {},
   "outputs": [
    {
     "name": "stderr",
     "output_type": "stream",
     "text": [
      "c:\\Users\\Mitesh Gupta\\AppData\\Local\\Programs\\Python\\Python311\\Lib\\site-packages\\spacy\\training\\iob_utils.py:149: UserWarning: [W030] Some entities could not be aligned in the text \"Ananya Chavan lecturer - oracle tutorials  Mumbai,...\" with entities \"[[857, 860, 'DEGREE'], [973, 1703, 'SKILLS'], [43,...\". Use `spacy.training.offsets_to_biluo_tags(nlp.make_doc(text), entities)` to check the alignment. Misaligned entities ('-') will be ignored during training.\n",
      "  warnings.warn(\n",
      "c:\\Users\\Mitesh Gupta\\AppData\\Local\\Programs\\Python\\Python311\\Lib\\site-packages\\spacy\\training\\iob_utils.py:149: UserWarning: [W030] Some entities could not be aligned in the text \"Imgeeyaul Ansari java developer  Pune, Maharashtra...\" with entities \"[[1894, 2173, 'SKILLS'], [1726, 1850, 'SKILLS'], [...\". Use `spacy.training.offsets_to_biluo_tags(nlp.make_doc(text), entities)` to check the alignment. Misaligned entities ('-') will be ignored during training.\n",
      "  warnings.warn(\n",
      "c:\\Users\\Mitesh Gupta\\AppData\\Local\\Programs\\Python\\Python311\\Lib\\site-packages\\spacy\\training\\iob_utils.py:149: UserWarning: [W030] Some entities could not be aligned in the text \"Jyotirbindu Patnaik Associate consultant@SAP labs ...\" with entities \"[[3052, 3067, 'SKILLS'], [2993, 3016, 'COLLEGE_NAM...\". Use `spacy.training.offsets_to_biluo_tags(nlp.make_doc(text), entities)` to check the alignment. Misaligned entities ('-') will be ignored during training.\n",
      "  warnings.warn(\n",
      "c:\\Users\\Mitesh Gupta\\AppData\\Local\\Programs\\Python\\Python311\\Lib\\site-packages\\spacy\\training\\iob_utils.py:149: UserWarning: [W030] Some entities could not be aligned in the text \"Madhuri Sripathi Banglore, Karnataka, Karnataka - ...\" with entities \"[[4563, 4746, 'SKILLS'], [4538, 4551, 'COLLEGE_NAM...\". Use `spacy.training.offsets_to_biluo_tags(nlp.make_doc(text), entities)` to check the alignment. Misaligned entities ('-') will be ignored during training.\n",
      "  warnings.warn(\n",
      "c:\\Users\\Mitesh Gupta\\AppData\\Local\\Programs\\Python\\Python311\\Lib\\site-packages\\spacy\\training\\iob_utils.py:149: UserWarning: [W030] Some entities could not be aligned in the text \"Mahesh Vijay Bengaluru, Karnataka - Email me on In...\" with entities \"[[3823, 3978, 'SKILLS'], [210, 216, 'COMPANIES_WOR...\". Use `spacy.training.offsets_to_biluo_tags(nlp.make_doc(text), entities)` to check the alignment. Misaligned entities ('-') will be ignored during training.\n",
      "  warnings.warn(\n",
      "c:\\Users\\Mitesh Gupta\\AppData\\Local\\Programs\\Python\\Python311\\Lib\\site-packages\\spacy\\training\\iob_utils.py:149: UserWarning: [W030] Some entities could not be aligned in the text \"Navas Koya Test Engineer  Mangalore, Karnataka - E...\" with entities \"[[2110, 2404, 'SKILLS'], [26, 35, 'LOCATION'], [18...\". Use `spacy.training.offsets_to_biluo_tags(nlp.make_doc(text), entities)` to check the alignment. Misaligned entities ('-') will be ignored during training.\n",
      "  warnings.warn(\n",
      "c:\\Users\\Mitesh Gupta\\AppData\\Local\\Programs\\Python\\Python311\\Lib\\site-packages\\spacy\\training\\iob_utils.py:149: UserWarning: [W030] Some entities could not be aligned in the text \"Pradeeba V LEAD ENGINEER - CISCO  - Email me on In...\" with entities \"[[216, 220, 'SKILLS'], [228, 238, 'SKILLS'], [222,...\". Use `spacy.training.offsets_to_biluo_tags(nlp.make_doc(text), entities)` to check the alignment. Misaligned entities ('-') will be ignored during training.\n",
      "  warnings.warn(\n",
      "c:\\Users\\Mitesh Gupta\\AppData\\Local\\Programs\\Python\\Python311\\Lib\\site-packages\\spacy\\training\\iob_utils.py:149: UserWarning: [W030] Some entities could not be aligned in the text \"PRASHANTH BADALA Devops Engineer ,Cloud Engineer -...\" with entities \"[[790, 794, 'SKILLS'], [667, 670, 'SKILLS'], [50, ...\". Use `spacy.training.offsets_to_biluo_tags(nlp.make_doc(text), entities)` to check the alignment. Misaligned entities ('-') will be ignored during training.\n",
      "  warnings.warn(\n",
      "c:\\Users\\Mitesh Gupta\\AppData\\Local\\Programs\\Python\\Python311\\Lib\\site-packages\\spacy\\training\\iob_utils.py:149: UserWarning: [W030] Some entities could not be aligned in the text \"Puneet Singh Associate Software Engineer  Bengalur...\" with entities \"[[990, 1007, 'SKILLS'], [952, 968, 'SKILLS'], [919...\". Use `spacy.training.offsets_to_biluo_tags(nlp.make_doc(text), entities)` to check the alignment. Misaligned entities ('-') will be ignored during training.\n",
      "  warnings.warn(\n",
      "c:\\Users\\Mitesh Gupta\\AppData\\Local\\Programs\\Python\\Python311\\Lib\\site-packages\\spacy\\training\\iob_utils.py:149: UserWarning: [W030] Some entities could not be aligned in the text \"Sowmya Karanth Finance Analyst  Hyderabad, Telanga...\" with entities \"[[1865, 1868, 'SKILLS'], [2058, 2091, 'SKILLS'], [...\". Use `spacy.training.offsets_to_biluo_tags(nlp.make_doc(text), entities)` to check the alignment. Misaligned entities ('-') will be ignored during training.\n",
      "  warnings.warn(\n",
      "c:\\Users\\Mitesh Gupta\\AppData\\Local\\Programs\\Python\\Python311\\Lib\\site-packages\\spacy\\training\\iob_utils.py:149: UserWarning: [W030] Some entities could not be aligned in the text \"Priyesh Dubey Azure Developer with 9 Yrs 8 months ...\" with entities \"[[389, 398, 'COMPANIES_WORKED_AT'], [2541, 2760, '...\". Use `spacy.training.offsets_to_biluo_tags(nlp.make_doc(text), entities)` to check the alignment. Misaligned entities ('-') will be ignored during training.\n",
      "  warnings.warn(\n",
      "c:\\Users\\Mitesh Gupta\\AppData\\Local\\Programs\\Python\\Python311\\Lib\\site-packages\\spacy\\training\\iob_utils.py:149: UserWarning: [W030] Some entities could not be aligned in the text \"Siddhartha Chetri 7 years of experience in IT Netw...\" with entities \"[[5487, 5854, 'SKILLS'], [4231, 4235, 'GRADUATION_...\". Use `spacy.training.offsets_to_biluo_tags(nlp.make_doc(text), entities)` to check the alignment. Misaligned entities ('-') will be ignored during training.\n",
      "  warnings.warn(\n",
      "c:\\Users\\Mitesh Gupta\\AppData\\Local\\Programs\\Python\\Python311\\Lib\\site-packages\\spacy\\training\\iob_utils.py:149: UserWarning: [W030] Some entities could not be aligned in the text \"Suresh Kanagala Architecture SharePoint/Office 365...\" with entities \"[[1171, 1573, 'SKILLS'], [962, 1095, 'SKILLS'], [9...\". Use `spacy.training.offsets_to_biluo_tags(nlp.make_doc(text), entities)` to check the alignment. Misaligned entities ('-') will be ignored during training.\n",
      "  warnings.warn(\n",
      "c:\\Users\\Mitesh Gupta\\AppData\\Local\\Programs\\Python\\Python311\\Lib\\site-packages\\spacy\\training\\iob_utils.py:149: UserWarning: [W030] Some entities could not be aligned in the text \"Dilliraja Baskaran Tamil Nadu - Email me on Indeed...\" with entities \"[[52, 100, 'EMAIL_ADDRESS'], [314, 349, 'SKILLS'],...\". Use `spacy.training.offsets_to_biluo_tags(nlp.make_doc(text), entities)` to check the alignment. Misaligned entities ('-') will be ignored during training.\n",
      "  warnings.warn(\n",
      "c:\\Users\\Mitesh Gupta\\AppData\\Local\\Programs\\Python\\Python311\\Lib\\site-packages\\spacy\\training\\iob_utils.py:149: UserWarning: [W030] Some entities could not be aligned in the text \"Karthik Gururaj Technical Lead at Infosys Ltd. - P...\" with entities \"[[2710, 2735, 'DEGREE'], [2773, 2812, 'DEGREE'], [...\". Use `spacy.training.offsets_to_biluo_tags(nlp.make_doc(text), entities)` to check the alignment. Misaligned entities ('-') will be ignored during training.\n",
      "  warnings.warn(\n",
      "c:\\Users\\Mitesh Gupta\\AppData\\Local\\Programs\\Python\\Python311\\Lib\\site-packages\\spacy\\training\\iob_utils.py:149: UserWarning: [W030] Some entities could not be aligned in the text \"Puran Mal Jaipur, Rajasthan - Email me on Indeed: ...\" with entities \"[[194, 511, 'SKILLS'], [174, 183, 'DEGREE'], [127,...\". Use `spacy.training.offsets_to_biluo_tags(nlp.make_doc(text), entities)` to check the alignment. Misaligned entities ('-') will be ignored during training.\n",
      "  warnings.warn(\n"
     ]
    }
   ],
   "source": [
    "# create a blank English NLP model\n",
    "nlp = spacy.blank('en')\n",
    "\n",
    "# Create the NER component and add it to the pipeline\n",
    "if \"ner\" not in nlp.pipe_names:\n",
    "    ner = nlp.add_pipe(\"ner\", last=True)\n",
    "else:\n",
    "    ner = nlp.get_pipe(\"ner\")\n",
    "\n",
    "# Add labels to the NER component\n",
    "for item in train_data:\n",
    "    for _, _, label in item['entities']:\n",
    "        ner.add_label(label)\n",
    "\n",
    "# Prepare training data in the format required by spaCy 3.x\n",
    "train_examples = []\n",
    "count=0\n",
    "for item in train_data:\n",
    "    doc = nlp.make_doc(item[\"text\"])\n",
    "    ents = []\n",
    "    for start, end, label in item['entities']:\n",
    "        span = doc.char_span(start, end, label=label, alignment_mode=\"contract\")\n",
    "        if span is not None:\n",
    "            ents.append(span)\n",
    "    \n",
    "    filtered_ents = filter_spans(ents)\n",
    "    doc.ents = filtered_ents\n",
    "    example = Example.from_dict(doc, {\"entities\": item['entities']})\n",
    "    train_examples.append(example)\n",
    "\n"
   ]
  },
  {
   "cell_type": "code",
   "execution_count": 4,
   "metadata": {},
   "outputs": [],
   "source": [
    "# Initialize the optimizer\n",
    "optimizer = nlp.begin_training()\n",
    "\n",
    "# Training loop\n",
    "n_iter = 200\n",
    "for itn in range(n_iter):\n",
    "    random.shuffle(train_examples)\n",
    "    losses = {}\n",
    "    # Batch up the examples using spaCy's minibatch\n",
    "    batches = minibatch(train_examples, size=compounding(4.0, 32.0, 1.001))\n",
    "    for batch in batches:\n",
    "        nlp.update(\n",
    "            batch,  # batch of Example objects\n",
    "            drop=0.2,  # dropout - make it harder to memorise data\n",
    "            sgd=optimizer,  # callable to update weights\n",
    "            losses=losses\n",
    "        )\n",
    "    scores = nlp.evaluate(train_examples)\n",
    "    ents_p = scores[\"ents_p\"]\n",
    "    ents_r = scores[\"ents_r\"]\n",
    "    ents_f = scores[\"ents_f\"]\n",
    "\n",
    "    print(f\"Iteration {itn+1}: Losses: {losses['ner']:.3f}, Precision: {ents_p:.3f}, Recall: {ents_r:.3f}, F1-score: {ents_f:.3f}\")\n",
    "\n",
    "# Save the model\n",
    "# nlp.to_disk(\"ner_model\")"
   ]
  }
 ],
 "metadata": {
  "kernelspec": {
   "display_name": "Python 3",
   "language": "python",
   "name": "python3"
  },
  "language_info": {
   "codemirror_mode": {
    "name": "ipython",
    "version": 3
   },
   "file_extension": ".py",
   "mimetype": "text/x-python",
   "name": "python",
   "nbconvert_exporter": "python",
   "pygments_lexer": "ipython3",
   "version": "3.11.7"
  }
 },
 "nbformat": 4,
 "nbformat_minor": 2
}
