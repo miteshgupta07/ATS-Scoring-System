{
 "cells": [
  {
   "cell_type": "code",
   "execution_count": 12,
   "metadata": {},
   "outputs": [],
   "source": [
    "import pdfplumber\n",
    "import spacy"
   ]
  },
  {
   "cell_type": "code",
   "execution_count": 14,
   "metadata": {},
   "outputs": [
    {
     "name": "stdout",
     "output_type": "stream",
     "text": [
      "Richa Gupta\n",
      "14+ years of experience in teaching students\n",
      "Contact: +91 9826476750\n",
      "Address: Laxmi Narayan Nagar, Khargone (M.P.)\n",
      "Objective\n",
      "I have 14+ years of experience as an educator and would love to bring my skills and passion to a forward-thinking\n",
      "school. My teaching style is all about creating a supportive and fun learning environment where students can excel\n",
      "academically and holistically. With strong subject knowledge, good classroom management and a love of igniting\n",
      "curiosity in young minds I want to make a positive difference to students lives and help them be the best they can be.\n",
      "Professional Experience\n",
      "• Teaching Experience in Sandipani Public School, Gogawa 2011 – 2012\n",
      "• Teaching Experience in K.K. Convent School, Khargone 2012 – 2014\n",
      "• Teaching Experience in Bapna Public School, Gogawa 2014 – 2016\n",
      "• Teaching Experience in Sanskar International Academy, Khargone 2016 – 2018\n",
      "• Teaching Experience in Abhyuday Vidyasthali, Khargone 2019 – 2022\n",
      "• Teaching Experience in Gyankunj International School, Khargone 2022 – Present\n",
      "Education\n",
      "B.Ed 2018\n",
      "Barkatullah University, Bhopal\n",
      "M.A. in Sociology 1998 - 2000\n",
      "Devi Ahilya Vishwavidyalaya, Indore\n",
      "B.A. 1995 - 1998\n",
      "Vikram Vishwavidyalaya, Ujjain\n",
      "Certifications\n",
      "• PGDCA in the Year 1995 from AISECT Computer Centre Khargone\n",
      "• Accomplished Diploma in Montessori Training in the year 2012\n",
      "Personal Details\n",
      "• Husband’s Name - DR. SANJAY GUPTA\n",
      "• D.O.B. - 12/05/1974\n",
      "• Marital status - Married\n",
      "• Language Known - Hindi, English\n",
      "• Hobbies - Reading Books, Listening Music, Dancing\n"
     ]
    }
   ],
   "source": [
    "file=\"E:\\Resume\\Richa_Gupta_Resume.pdf\"\n",
    "with pdfplumber.open(file) as pdf:\n",
    "    text=\"\"\n",
    "    for i,page in enumerate(pdf.pages):\n",
    "        text+=page.extract_text()\n",
    "\n",
    "print(text)"
   ]
  },
  {
   "cell_type": "code",
   "execution_count": 17,
   "metadata": {},
   "outputs": [
    {
     "name": "stdout",
     "output_type": "stream",
     "text": [
      "Richa Gupta - 0 - 11 - PERSON - People, including fictional\n",
      "14+ years - 12 - 21 - DATE - Absolute or relative dates or periods\n",
      "Narayan Nagar - 96 - 109 - PERSON - People, including fictional\n",
      "14+ years - 144 - 153 - DATE - Absolute or relative dates or periods\n",
      "Sandipani Public School - 645 - 668 - ORG - Companies, agencies, institutions, etc.\n",
      "2012 - 684 - 688 - DATE - Absolute or relative dates or periods\n",
      "K.K. Convent School - 714 - 733 - ORG - Companies, agencies, institutions, etc.\n",
      "2014 - 751 - 755 - DATE - Absolute or relative dates or periods\n",
      "Bapna Public School - 781 - 800 - ORG - Companies, agencies, institutions, etc.\n",
      "2016 - 816 - 820 - DATE - Absolute or relative dates or periods\n",
      "Sanskar International Academy - 846 - 875 - ORG - Companies, agencies, institutions, etc.\n",
      "2018 - 893 - 897 - DATE - Absolute or relative dates or periods\n",
      "• Teaching Experience - 898 - 919 - ORG - Companies, agencies, institutions, etc.\n",
      "Abhyuday Vidyasthali - 923 - 943 - GPE - Countries, cities, states\n",
      "2022 - 961 - 965 - DATE - Absolute or relative dates or periods\n",
      "Gyankunj International School - 991 - 1020 - ORG - Companies, agencies, institutions, etc.\n",
      "2018 - 1061 - 1065 - DATE - Absolute or relative dates or periods\n",
      "Barkatullah University - 1066 - 1088 - ORG - Companies, agencies, institutions, etc.\n",
      "Bhopal\n",
      "M.A. - 1090 - 1101 - PERSON - People, including fictional\n",
      "1998 - 2000 - 1115 - 1126 - DATE - Absolute or relative dates or periods\n",
      "Devi Ahilya Vishwavidyalaya - 1127 - 1154 - PERSON - People, including fictional\n",
      "Indore - 1156 - 1162 - GPE - Countries, cities, states\n",
      "B.A. - 1163 - 1167 - GPE - Countries, cities, states\n",
      "1995 - 1998 - 1168 - 1179 - DATE - Absolute or relative dates or periods\n",
      "Vikram Vishwavidyalaya - 1180 - 1202 - FAC - Buildings, airports, highways, bridges, etc.\n",
      "Ujjain - 1204 - 1210 - GPE - Countries, cities, states\n",
      "Certifications - 1211 - 1225 - WORK_OF_ART - Titles of books, songs, etc.\n",
      "the Year 1995 - 1237 - 1250 - DATE - Absolute or relative dates or periods\n",
      "AISECT Computer Centre Khargone - 1256 - 1287 - ORG - Companies, agencies, institutions, etc.\n",
      "the year 2012 - 1337 - 1350 - DATE - Absolute or relative dates or periods\n",
      "Personal Details\n",
      "• Husband’s Name - DR - 1351 - 1389 - WORK_OF_ART - Titles of books, songs, etc.\n",
      "• Marital - 1426 - 1435 - PRODUCT - Objects, vehicles, foods, etc. (not services)\n",
      "Married\n",
      "• Language Known - Hindi - 1445 - 1477 - WORK_OF_ART - Titles of books, songs, etc.\n",
      "English - 1479 - 1486 - LANGUAGE - Any named language\n"
     ]
    }
   ],
   "source": [
    "parser=spacy.load('en_core_web_sm')\n",
    "doc=parser(text)\n",
    "\n",
    "def show_entities(doc):\n",
    "    if doc.ents:\n",
    "        for entity in doc.ents:\n",
    "            print(entity.text + ' - ' + str(entity.start_char) + ' - ' + str(entity.end_char) + ' - ' + entity.label_ + ' - ' + str(spacy.explain(entity.label_)))\n",
    "    \n",
    "    else:\n",
    "        print(\"No named Entity Found\")\n",
    "\n",
    "show_entities(doc)"
   ]
  }
 ],
 "metadata": {
  "kernelspec": {
   "display_name": "Python 3",
   "language": "python",
   "name": "python3"
  },
  "language_info": {
   "codemirror_mode": {
    "name": "ipython",
    "version": 3
   },
   "file_extension": ".py",
   "mimetype": "text/x-python",
   "name": "python",
   "nbconvert_exporter": "python",
   "pygments_lexer": "ipython3",
   "version": "3.11.7"
  }
 },
 "nbformat": 4,
 "nbformat_minor": 2
}
