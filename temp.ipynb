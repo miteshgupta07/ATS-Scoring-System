{
 "cells": [
  {
   "cell_type": "code",
   "execution_count": 3,
   "metadata": {},
   "outputs": [
    {
     "data": {
      "text/plain": [
       "'Alice ClarkAI / Machine LearningDelhi, India Email me on Indeed20+ years of experience in data handling, design, and developmentData Warehouse: Data analysis, star/snow flake scema data modelling and design specific to data warehousing and business intelligenceDatabase: Experience in database designing, scalability, back-up and recovery, writing andoptimizing SQL code and Stored Procedures, creating functions, views, triggers and indexes. Cloud platform: Worked on Microsoft Azure cloud services like Document DB, SQL Azure, Stream Analytics, Event hub, Power BI, Web Job, Web App, Power BI, Azure data lake analytics(U-SQL)Willing to relocate anywhereWORK EXPERIENCESoftware EngineerMicrosoft – Bangalore, KarnatakaJanuary 2000 to Present1. Microsoft Rewards Live dashboards:Description: - Microsoft rewards is loyalty program that rewards Users for browsing and shoppingonline. Microsoft Rewards members can earn points when searching with Bing, browsing withMicrosoft Edge and making purchases at the Xbox Store, the Windows Store and the MicrosoftStore. Plus, user can pick up bonus points for taking daily quizzes and tours on the Microsoftrewards website. Rewards live dashboards gives a live picture of usage world-wide and bymarkets like US, Canada, Australia, new user registration count, top/bottom performing rewardsoffers, orders stats and weekly trends of user activities, orders and new user registrations. thePBI tiles gets refreshed in different frequencies starting from 5 seconds to 30 minutes.Technology/Tools usedEDUCATIONIndian Institute of Technology – Mumbai2001SKILLSMachine Learning, Natural Language Processing, and Big Data HandlingADDITIONAL INFORMATIONProfessional Skills• Excellent analytical, problem solving, communication, knowledge transfer and interpersonalskills with ability to interact with individuals at all the levels• Quick learner and maintains cordial relationship with project manager and team members andgood performer both in team and independent job environments• Positive attitude towards superiors &amp; peers• Supervised junior developers throughout project lifecycle and provided technical assistance'"
      ]
     },
     "execution_count": 3,
     "metadata": {},
     "output_type": "execute_result"
    }
   ],
   "source": [
    "from docx import Document\n",
    "def extract_text_from_docx(word_file):\n",
    "    doc = Document(word_file)\n",
    "    text = \"\"\n",
    "    for para in doc.paragraphs:\n",
    "        text += para.text\n",
    "    return text\n",
    "\n",
    "\n",
    "extract_text_from_docx('Data/test/Alice Clark CV.docx')"
   ]
  },
  {
   "cell_type": "code",
   "execution_count": 19,
   "metadata": {},
   "outputs": [],
   "source": [
    "import re\n",
    "def preprocess_text(text):\n",
    "    replacements = {\n",
    "        'â€“': '–',    # en dash\n",
    "        'â€”': '—',    # em dash\n",
    "        'â€˜': '‘',    # left single quotation mark\n",
    "        'â€™': '’',    # right single quotation mark\n",
    "        'â€œ': '“',    # left double quotation mark\n",
    "        'â€�': '”',    # right double quotation mark\n",
    "        'â€¢': '•',    # bullet point\n",
    "        'â€¦': '…',    # ellipsis\n",
    "        'Ã©': 'é',     # é\n",
    "        'Ã¨': 'è',     # è\n",
    "        'Ã¢': 'â',     # â\n",
    "        'Ã´': 'ô',     # ô\n",
    "        'Ã¼': 'ü',     # ü\n",
    "        'Ã±': 'ñ',     # ñ\n",
    "        'Ã‹': 'Ë',     # Ë\n",
    "        'Ã¡': 'á',     # á\n",
    "        'Ãº': 'ú',     # ú\n",
    "        'Ã®': 'î',     # î\n",
    "        'Ã€': 'À',     # À\n",
    "        'Ã¬': 'ì',     # ì\n",
    "        'Ã™': 'Ù',     # Ù\n",
    "        'Ã': 'Í',     # Í\n",
    "        'Ã–': 'Ö',     # Ö\n",
    "        'Ã': 'Á',     # Á\n",
    "        'ÃŒ': 'Ì',     # Ì\n",
    "        'Ã‰': 'É',     # É\n",
    "        'Ã': 'Ï',     # Ï\n",
    "        'Ã«': 'ë',     # ë\n",
    "        'Ã³': 'ó',     # ó\n",
    "        'Ãž': 'Þ',     # Þ\n",
    "        'Ãš': 'Ú',     # Ú\n",
    "        'Ã¦': 'æ',     # æ\n",
    "        'Ã˜': 'Ø',     # Ø\n",
    "        'ÃŸ': 'ß',     # ß\n",
    "        'Ã°': 'ð',     # ð\n",
    "        'Ã­': 'í',     # í\n",
    "        'Ãµ': 'õ',     # õ\n",
    "        'Ã¥': 'å',     # å\n",
    "        'Ã¯': 'ï',     # ï\n",
    "        'Ã£': 'ã',     # ã\n",
    "        'Ã¤': 'ä',     # ä\n",
    "        'Ã¶': 'ö',     # ö\n",
    "        'Ã¼': 'ü',     # ü\n",
    "        'â‚¬': '€',    # Euro sign\n",
    "        'â„¢': '™',    # Trademark sign\n",
    "        'âˆ‚': '∂',    # Partial differential\n",
    "        'âˆ€': '∀',    # For all\n",
    "        'âˆˆ': '∈',    # Element of\n",
    "        'âˆƒ': '∃',    # There exists\n",
    "        'âˆ…': '∅',    # Empty set\n",
    "        'âˆ†': '∆',    # Increment\n",
    "        'âˆ‡': '∇',    # Nabla\n",
    "        'âˆ‘': '∑',    # N-ary summation\n",
    "        'âˆ—': '∗',    # Asterisk operator\n",
    "        'âˆ˜': '∘',    # Ring operator\n",
    "        'âˆ™': '∙',    # Bullet operator\n",
    "        'âˆš': '√',    # Square root\n",
    "        'âˆ›': '∧',    # Logical and\n",
    "        'âˆ¥': '∥',    # Parallel to\n",
    "        'âˆ¼': '∼',    # Tilde operator\n",
    "        'âˆ¾': '≀',    # Wreath product\n",
    "        'âˆ¿': '≁',    # Not tilde\n",
    "        'âˆ‹': '⊂',    # Subset of\n",
    "        'âˆ›': '⊃',    # Superset of\n",
    "        'â‰': '≠',     # Not equal to\n",
    "        'â‰¤': '≤',    # Less-than or equal to\n",
    "        'â‰¥': '≥',    # Greater-than or equal to\n",
    "        'â‰¤': '≤',    # Less-than or equal to\n",
    "        'â‰≥': '≥',    # Greater-than or equal to\n",
    "        'â‰²': '²',    # Superscript two\n",
    "        'â‰³': '³',    # Superscript three\n",
    "        'â‰®': '≡',    # Identical to\n",
    "        'â‰³': '≥',    # Greater-than or equal to\n",
    "        'â‰¯': '≣',    # Equivalent to\n",
    "        'â‰¤': '≤',    # Less-than or equal to\n",
    "        'â‰³': '≥',    # Greater-than or equal to\n",
    "        'â‰®': '≡',    # Identical to\n",
    "    }\n",
    "    \n",
    "    # Replace the characters in the text\n",
    "    for wrong_char, correct_char in replacements.items():\n",
    "        text = text.replace(wrong_char, correct_char)\n",
    "    \n",
    "    # Remove newline characters and any extraneous whitespace\n",
    "    text = re.sub(r'\\n+', ' ', text)  # Replace multiple newlines with a single space\n",
    "    text = re.sub(r'\\s+', ' ', text)  # Replace multiple spaces with a single space\n",
    "    text = text.strip()  # Remove leading and trailing whitespace\n",
    "    \n",
    "    return text"
   ]
  },
  {
   "cell_type": "code",
   "execution_count": 20,
   "metadata": {},
   "outputs": [
    {
     "data": {
      "text/plain": [
       "'Alice Clark AI / Machine Learning Delhi, India Email me on Indeed • 20+ years of experience in data handling, design, and development • Data Warehouse: Data analysis, star/snow flake scema data modelling and design specific to data warehousing and business intelligence • Database: Experience in database designing, scalability, back-up and recovery, writing and optimizing SQL code and Stored Procedures, creating functions, views, triggers and indexes. Cloud platform: Worked on Microsoft Azure cloud services like Document DB, SQL Azure, Stream Analytics, Event hub, Power BI, Web Job, Web App, Power BI, Azure data lake analytics(U-SQL) Willing to relocate anywhere WORK EXPERIENCE Software Engineer Microsoft – Bangalore, Karnataka January 2000 to Present 1. Microsoft Rewards Live dashboards: Description: - Microsoft rewards is loyalty program that rewards Users for browsing and shopping online. Microsoft Rewards members can earn points when searching with Bing, browsing with Microsoft Edge and making purchases at the Xbox Store, the Windows Store and the Microsoft Store. Plus, user can pick up bonus points for taking daily quizzes and tours on the Microsoft rewards website. Rewards live dashboards gives a live picture of usage world-wide and by markets like US, Canada, Australia, new user registration count, top/bottom performing rewards offers, orders stats and weekly trends of user activities, orders and new user registrations. the PBI tiles gets refreshed in different frequencies starting from 5 seconds to 30 minutes. Technology/Tools used EDUCATION Indian Institute of Technology – Mumbai 2001 SKILLS Machine Learning, Natural Language Processing, and Big Data Handling ADDITIONAL INFORMATION Professional Skills • Excellent analytical, problem solving, communication, knowledge transfer and interpersonal skills with ability to interact with individuals at all the levels • Quick learner and maintains cordial relationship with project manager and team members and good performer both in team and independent job environments • Positive attitude towards superiors &amp; peers • Supervised junior developers throughout project lifecycle and provided technical assistance'"
      ]
     },
     "execution_count": 20,
     "metadata": {},
     "output_type": "execute_result"
    }
   ],
   "source": [
    "def extract_text_from_txt(text_file):\n",
    "    with open(text_file,'r') as txt_file:\n",
    "        text=txt_file.read()\n",
    "    return text\n",
    "\n",
    "text=extract_text_from_txt('Data/test/Alice Clark CV.txt')\n",
    "preprocess_text(text)"
   ]
  }
 ],
 "metadata": {
  "kernelspec": {
   "display_name": "Python 3",
   "language": "python",
   "name": "python3"
  },
  "language_info": {
   "codemirror_mode": {
    "name": "ipython",
    "version": 3
   },
   "file_extension": ".py",
   "mimetype": "text/x-python",
   "name": "python",
   "nbconvert_exporter": "python",
   "pygments_lexer": "ipython3",
   "version": "3.11.7"
  }
 },
 "nbformat": 4,
 "nbformat_minor": 2
}
