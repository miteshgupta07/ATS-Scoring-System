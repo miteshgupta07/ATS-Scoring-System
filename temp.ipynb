{
 "cells": [
  {
   "cell_type": "code",
   "execution_count": 1,
   "metadata": {},
   "outputs": [],
   "source": [
    "import spacy\n",
    "from spacy.training import Example\n",
    "from spacy.util import minibatch, compounding\n",
    "import random\n",
    "import json\n",
    "from tqdm import tqdm\n",
    "from spacy.util import filter_spans\n",
    "from spacy.training.iob_utils import offsets_to_biluo_tags"
   ]
  },
  {
   "cell_type": "code",
   "execution_count": 2,
   "metadata": {},
   "outputs": [],
   "source": [
    "with open('Data/train/train_data.json','rb') as f:\n",
    "    train_data=json.load(f)"
   ]
  },
  {
   "cell_type": "code",
   "execution_count": null,
   "metadata": {},
   "outputs": [],
   "source": [
    "# create a blank English NLP model\n",
    "nlp = spacy.blank('en')\n",
    "\n",
    "# Create the NER component and add it to the pipeline\n",
    "if \"ner\" not in nlp.pipe_names:\n",
    "    ner = nlp.add_pipe(\"ner\", last=True)\n",
    "else:\n",
    "    ner = nlp.get_pipe(\"ner\")\n",
    "\n",
    "# Add labels to the NER component\n",
    "for item in train_data:\n",
    "    for _, _, label in item['entities']:\n",
    "        ner.add_label(label)\n",
    "\n",
    "# Prepare training data in the format required by spaCy 3.x\n",
    "train_examples = []\n",
    "count=0\n",
    "for item in train_data:\n",
    "    doc = nlp.make_doc(item[\"text\"])\n",
    "    ents = []\n",
    "    for start, end, label in item['entities']:\n",
    "        span = doc.char_span(start, end, label=label, alignment_mode=\"contract\")\n",
    "        if span is not None:\n",
    "            ents.append(span)\n",
    "    \n",
    "    filtered_ents = filter_spans(ents)\n",
    "    doc.ents = filtered_ents\n",
    "    example = Example.from_dict(doc, {\"entities\": item['entities']})\n",
    "    train_examples.append(example)\n",
    "\n"
   ]
  },
  {
   "cell_type": "code",
   "execution_count": 4,
   "metadata": {},
   "outputs": [
    {
     "name": "stdout",
     "output_type": "stream",
     "text": [
      "Iteration 0: Losses: 29193.675, Precision: 0.992, Recall: 1.000, F1-score: 0.996\n",
      "Iteration 1: Losses: 5928.466, Precision: 0.965, Recall: 1.000, F1-score: 0.982\n"
     ]
    }
   ],
   "source": [
    "# Initialize the optimizer\n",
    "optimizer = nlp.begin_training()\n",
    "\n",
    "# Training loop\n",
    "n_iter = 20\n",
    "for itn in range(n_iter):\n",
    "    random.shuffle(train_examples)\n",
    "    losses = {}\n",
    "    # Batch up the examples using spaCy's minibatch\n",
    "    batches = minibatch(train_examples, size=compounding(4.0, 32.0, 1.001))\n",
    "    for batch in batches:\n",
    "        nlp.update(\n",
    "            batch,  # batch of Example objects\n",
    "            drop=0.2,  # dropout - make it harder to memorise data\n",
    "            sgd=optimizer,  # callable to update weights\n",
    "            losses=losses\n",
    "        )\n",
    "    scores = nlp.evaluate(train_examples)\n",
    "    ents_p = scores[\"ents_p\"]\n",
    "    ents_r = scores[\"ents_r\"]\n",
    "    ents_f = scores[\"ents_f\"]\n",
    "\n",
    "    print(f\"Iteration {itn}: Losses: {losses['ner']:.3f}, Precision: {ents_p:.3f}, Recall: {ents_r:.3f}, F1-score: {ents_f:.3f}\")\n",
    "\n",
    "# Save the model\n",
    "# nlp.to_disk(\"ner_model\")"
   ]
  }
 ],
 "metadata": {
  "kernelspec": {
   "display_name": "Python 3",
   "language": "python",
   "name": "python3"
  },
  "language_info": {
   "codemirror_mode": {
    "name": "ipython",
    "version": 3
   },
   "file_extension": ".py",
   "mimetype": "text/x-python",
   "name": "python",
   "nbconvert_exporter": "python",
   "pygments_lexer": "ipython3",
   "version": "3.11.7"
  }
 },
 "nbformat": 4,
 "nbformat_minor": 2
}
